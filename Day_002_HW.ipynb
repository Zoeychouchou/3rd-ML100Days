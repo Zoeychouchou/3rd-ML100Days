{
 "cells": [
  {
   "cell_type": "markdown",
   "metadata": {},
   "source": [
    "## [作業目標]\n",
    "了解機器學習適合應用的領域與範疇。"
   ]
  },
  {
   "cell_type": "markdown",
   "metadata": {},
   "source": [
    "## [作業重點]\n",
    "透過瞭解機器學習的運作方式，找出非常適用機器學習應用的領域及其原因"
   ]
  },
  {
   "cell_type": "markdown",
   "metadata": {},
   "source": [
    "## 作業\n",
    "請找出一個你認為機器學習可以發光發熱的領域並闡述原因?   \n",
    "醫療領域，包含x光影響疾病分析及根據以往案例和臨床實驗來作疾病初步判斷、病程發展和建議療程，以減少資源浪費與提高醫療體驗效率  \n",
    "現代人類醫療科學的進步使得人類增加醫療使用，病人對於病徵與症狀關聯的不夠理解可能造成病急亂投醫，沒有到正確的門診就醫，疾病判斷也會因醫師的背景與知識範圍而有些微不同。建立了大數據的資料庫有助於整合各種案例以及協助判斷疾病種類(監督式學習)、病菌分布位置、疾病發展的推斷以及診療方式與效果的預測等等，有許多可以提高診斷準確性、提高診斷效率以及減少資源浪費的機會。"
   ]
  },
  {
   "cell_type": "code",
   "execution_count": null,
   "metadata": {},
   "outputs": [],
   "source": [
    "   "
   ]
  }
 ],
 "metadata": {
  "kernelspec": {
   "display_name": "Python 3",
   "language": "python",
   "name": "python3"
  },
  "language_info": {
   "codemirror_mode": {
    "name": "ipython",
    "version": 3
   },
   "file_extension": ".py",
   "mimetype": "text/x-python",
   "name": "python",
   "nbconvert_exporter": "python",
   "pygments_lexer": "ipython3",
   "version": "3.7.3"
  }
 },
 "nbformat": 4,
 "nbformat_minor": 2
}
